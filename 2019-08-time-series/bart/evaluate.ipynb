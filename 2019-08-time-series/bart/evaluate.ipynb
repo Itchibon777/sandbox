{
 "cells": [
  {
   "cell_type": "markdown",
   "metadata": {},
   "source": [
    "# Evaluation of forecasting methods\n",
    "\n",
    "This notebook analyzes the results of forecasting experiments. The evaluation code lives in [evaluate.py](evaluate.py). To generate results before running this notebook, run (much faster on a machine with a GPU):\n",
    "```sh\n",
    "make eval\n",
    "```"
   ]
  },
  {
   "cell_type": "code",
   "execution_count": 1,
   "metadata": {},
   "outputs": [],
   "source": [
    "import torch"
   ]
  },
  {
   "cell_type": "code",
   "execution_count": 2,
   "metadata": {},
   "outputs": [
    {
     "name": "stdout",
     "output_type": "stream",
     "text": [
      "dict_keys(['args', 'metrics'])\n",
      "Namespace(device='cuda', force=False, forecast_hours=168, num_samples=99, num_steps=1001, parallel=4, pdb=False, results='results', truncate=0, verbose=False)\n"
     ]
    }
   ],
   "source": [
    "results = torch.load('results/eval.pkl')\n",
    "print(results.keys())\n",
    "args = results['args']\n",
    "metrics = results['metrics']\n",
    "print(args)"
   ]
  },
  {
   "cell_type": "code",
   "execution_count": 3,
   "metadata": {},
   "outputs": [
    {
     "name": "stdout",
     "output_type": "stream",
     "text": [
      "Config: ()\n",
      "CRPS = 2.06 ± 0.335\n",
      "MAE = 2.76 ± 0.409\n",
      "Config: ('--mean-field',)\n",
      "CRPS = 1.74 ± 0.156\n",
      "MAE = 2.33 ± 0.197\n"
     ]
    }
   ],
   "source": [
    "for config, runs in sorted(metrics.items()):\n",
    "    print(f'Config: {config}')\n",
    "    collated = {}\n",
    "    for run in runs.values():\n",
    "        for k, v in run.items():\n",
    "            collated.setdefault(k, []).append(v)\n",
    "    for name, values in sorted(collated.items()):\n",
    "        values = torch.tensor(values)\n",
    "        print(f'{name} = {values.mean():0.3g} ± {values.std():0.3g}')"
   ]
  },
  {
   "cell_type": "code",
   "execution_count": null,
   "metadata": {},
   "outputs": [],
   "source": []
  }
 ],
 "metadata": {
  "kernelspec": {
   "display_name": "Python 3",
   "language": "python",
   "name": "python3"
  },
  "language_info": {
   "codemirror_mode": {
    "name": "ipython",
    "version": 3
   },
   "file_extension": ".py",
   "mimetype": "text/x-python",
   "name": "python",
   "nbconvert_exporter": "python",
   "pygments_lexer": "ipython3",
   "version": "3.7.2"
  }
 },
 "nbformat": 4,
 "nbformat_minor": 2
}
